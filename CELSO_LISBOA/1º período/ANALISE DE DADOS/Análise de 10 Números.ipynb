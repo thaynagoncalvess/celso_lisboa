{
 "cells": [
  {
   "cell_type": "markdown",
   "metadata": {
    "application/vnd.databricks.v1+cell": {
     "cellMetadata": {},
     "inputWidgets": {},
     "nuid": "5cfc5986-8d00-40d0-b048-371e14262211",
     "showTitle": false,
     "tableResultSettingsMap": {},
     "title": ""
    }
   },
   "source": [
    "# Análise de 10 Números\n",
    "\n",
    "Este programa solicita ao usuário a entrada de **10 números inteiros e positivos**.  \n",
    "Após a leitura, o algoritmo identifica o **maior valor**, o **menor valor** e calcula a **média aritmética** dos números lidos.\n",
    "\n",
    "---\n",
    "\n",
    "## Estrutura do Código\n",
    "\n",
    "### 1. Leitura dos Valores\n",
    "```python\n",
    "numeros = []\n",
    "\n",
    "for i in range(10):\n",
    "    while True:\n",
    "        valor = int(input(f\"Digite o {i+1}º número inteiro e positivo: \"))\n",
    "        if valor > 0:\n",
    "            numeros.append(valor)\n",
    "            break\n",
    "        else:\n",
    "            print(\"O número precisa ser positivo. Tente novamente.\")\n",
    "```\n",
    "\n",
    "### 2. Processamento\n",
    "```python\n",
    "maior = max(numeros)\n",
    "menor = min(numeros)\n",
    "media = sum(numeros) / len(numeros)\n",
    "```\n",
    "\n",
    "### 3. Saída:\n",
    "```python\n",
    "print(f\"\\nMaior valor: {maior}\")\n",
    "print(f\"Menor valor: {menor}\")\n",
    "print(f\"Média dos valores: {media:.2f}\")\n",
    "```\n"
   ]
  },
  {
   "cell_type": "code",
   "execution_count": 0,
   "metadata": {
    "application/vnd.databricks.v1+cell": {
     "cellMetadata": {
      "byteLimit": 2048000,
      "rowLimit": 10000
     },
     "inputWidgets": {},
     "nuid": "d72868e6-7c72-4f84-8802-381752a941c7",
     "showTitle": false,
     "tableResultSettingsMap": {},
     "title": ""
    }
   },
   "outputs": [],
   "source": [
    "numeros = []\n",
    "\n",
    "# Leitura de 10 valores\n",
    "for i in range(10):\n",
    "    while True:\n",
    "        valor = int(input(f\"Digite o {i+1}º número inteiro e positivo: \"))\n",
    "        if valor > 0:\n",
    "            numeros.append(valor)\n",
    "            break\n",
    "        else:\n",
    "            print(\"O número precisa ser positivo. Tente novamente.\")\n",
    "\n",
    "# Processamento\n",
    "maior = max(numeros)\n",
    "menor = min(numeros)\n",
    "media = sum(numeros) / len(numeros)\n",
    "\n",
    "# Saída\n",
    "print(f\"\\nMaior valor: {maior}\")\n",
    "print(f\"Menor valor: {menor}\")\n",
    "print(f\"Média dos valores: {media:.2f}\")"
   ]
  }
 ],
 "metadata": {
  "application/vnd.databricks.v1+notebook": {
   "computePreferences": null,
   "dashboards": [],
   "environmentMetadata": {
    "base_environment": "",
    "environment_version": "3"
   },
   "inputWidgetPreferences": null,
   "language": "python",
   "notebookMetadata": {
    "pythonIndentUnit": 4
   },
   "notebookName": "Análise de 10 Números",
   "widgets": {}
  },
  "language_info": {
   "name": "python"
  }
 },
 "nbformat": 4,
 "nbformat_minor": 0
}
