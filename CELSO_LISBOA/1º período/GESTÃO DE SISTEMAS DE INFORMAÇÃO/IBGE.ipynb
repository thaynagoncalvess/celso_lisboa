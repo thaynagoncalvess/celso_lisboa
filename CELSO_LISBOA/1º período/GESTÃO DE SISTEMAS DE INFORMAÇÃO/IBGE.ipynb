{
 "cells": [
  {
   "cell_type": "markdown",
   "metadata": {
    "application/vnd.databricks.v1+cell": {
     "cellMetadata": {
      "byteLimit": 2048000,
      "rowLimit": 10000
     },
     "inputWidgets": {},
     "nuid": "dab8593d-c4ac-4114-9d9d-92e785ba5c1c",
     "showTitle": false,
     "tableResultSettingsMap": {},
     "title": ""
    }
   },
   "source": [
    "# IBGE - Carga de Dados dos Estados e Municípios do Brasil\n",
    "\n",
    "Este notebook realiza a extração, transformação e carga (ETL) dos dados de estados e municípios do Brasil, utilizando a API do IBGE disponibilizada pela [BrasilAPI](https://brasilapi.com.br/). O objetivo é criar uma tabela Delta particionada por estado, contendo informações detalhadas sobre cada município e seu respectivo estado.\n",
    "\n",
    "## Etapas do Processo\n",
    "\n",
    "1. **Criação da Tabela Delta**  \n",
    "   Cria a tabela `ibge_brasil` no Databricks, particionada por estado, para armazenar os dados dos municípios e estados.\n",
    "\n",
    "2. **Extração dos Dados dos Estados**  \n",
    "   Utiliza a API para obter a lista de todos os estados brasileiros, incluindo informações como nome, sigla, região e identificadores.\n",
    "\n",
    "3. **Extração dos Dados dos Municípios**  \n",
    "   Para cada estado, consulta a API para obter a lista de municípios, associando cada município ao seu respectivo estado.\n",
    "\n",
    "4. **Transformação dos Dados**  \n",
    "   Padroniza os nomes dos campos e realiza o join entre municípios e estados, adicionando a data de carga.\n",
    "\n",
    "5. **Carga dos Dados**  \n",
    "   Escreve os dados finais na tabela Delta criada, sobrescrevendo os dados anteriores.\n",
    "\n",
    "6. **Otimização da Tabela**  \n",
    "   Executa o comando de otimização para melhorar a performance das consultas.\n",
    "\n",
    "---\n",
    "\n",
    "**Fonte dos dados:** [BrasilAPI - IBGE](https://brasilapi.com.br/)"
   ]
  },
  {
   "cell_type": "code",
   "execution_count": 0,
   "metadata": {
    "application/vnd.databricks.v1+cell": {
     "cellMetadata": {
      "byteLimit": 2048000,
      "rowLimit": 10000
     },
     "inputWidgets": {},
     "nuid": "04514901-ba64-46aa-bbbe-c1f6e209c0fe",
     "showTitle": false,
     "tableResultSettingsMap": {},
     "title": ""
    }
   },
   "outputs": [],
   "source": [
    "import requests\n",
    "import json\n",
    "import sys\n",
    "from pyspark.sql.functions import lit\n",
    "from pyspark.sql.functions import to_utc_timestamp, from_utc_timestamp, current_timestamp"
   ]
  },
  {
   "cell_type": "code",
   "execution_count": 0,
   "metadata": {
    "application/vnd.databricks.v1+cell": {
     "cellMetadata": {
      "byteLimit": 2048000,
      "rowLimit": 10000
     },
     "inputWidgets": {},
     "nuid": "51e89b46-63f5-4dae-b907-03c495927bc1",
     "showTitle": false,
     "tableResultSettingsMap": {},
     "title": ""
    }
   },
   "outputs": [],
   "source": [
    "# VARIÁVEIS\n",
    "table_name = \"ibge_brasil\"\n",
    "\n",
    "# CRIA TABELA\n",
    "spark.sql(\n",
    "    f\"\"\"\n",
    "CREATE TABLE IF NOT EXISTS {table_name}\n",
    "(sigla_estado    string     comment \"Sigla do Estado (UF)\"\n",
    ",codigo_ibge     string     comment \"Código do Estado no IBGE\"\n",
    ",nome_municipio  string     comment \"Nome do Município\"\n",
    ",id_estado       long       comment \"ID do Estado\"\n",
    ",nome_estado     string     comment \"Nome do Estado\"\n",
    ",id_regiao       string     comment \"ID da Região\"\n",
    ",regiao          string     comment \"Nome da Região\"\n",
    ",sigla_regiao    string     comment \"Sigla da Região\"\n",
    ",data_carga      timestamp  comment \"Data da Carga\"\n",
    ")          \n",
    "USING DELTA\n",
    "PARTITIONED BY (sigla_estado)\n",
    "COMMENT \"\n",
    "- Dados do IBGE. \n",
    "- Fonte: https://brasilapi.com.br\"\n",
    "\"\"\"\n",
    ")"
   ]
  },
  {
   "cell_type": "code",
   "execution_count": 0,
   "metadata": {
    "application/vnd.databricks.v1+cell": {
     "cellMetadata": {
      "byteLimit": 2048000,
      "rowLimit": 10000
     },
     "inputWidgets": {},
     "nuid": "13579f87-bbf7-488e-b64f-53ec84a904c5",
     "showTitle": false,
     "tableResultSettingsMap": {},
     "title": ""
    }
   },
   "outputs": [],
   "source": [
    "# ----------------------------------------------------------------------------\n",
    "def municipios(siglaUF):\n",
    "    # Retorna os municípios da unidade federativa (UF)\n",
    "    try:\n",
    "        # URL DE LOGIN\n",
    "        url = f\"https://brasilapi.com.br/api/ibge/municipios/v1/{siglaUF}?providers=dados-abertos-br,gov,wikipedia\"\n",
    "\n",
    "        headers = {\n",
    "            \"Content-Type\": \"application/json;charset=UTF-8\",\n",
    "        }\n",
    "        response = requests.request(\"GET\", url, headers=headers)\n",
    "        if response.status_code != 200:\n",
    "            sys.exit({response.status_code})\n",
    "        return response.json()\n",
    "    except Exception as e:\n",
    "        raise e\n",
    "# ----------------------------------------------------------------------------\n",
    "def estados():\n",
    "    # Retorna informações de todos estados do Brasil\n",
    "    try:\n",
    "        # URL DE LOGIN\n",
    "        url = \"https://brasilapi.com.br/api/ibge/uf/v1\"\n",
    "\n",
    "        headers = {\n",
    "            \"Content-Type\": \"application/json;charset=UTF-8\",\n",
    "        }\n",
    "        response = requests.request(\"GET\", url, headers=headers)\n",
    "        if response.status_code != 200:\n",
    "            sys.exit({response.status_code})\n",
    "        return response.json()\n",
    "    except Exception as e:\n",
    "        raise e"
   ]
  },
  {
   "cell_type": "code",
   "execution_count": 0,
   "metadata": {
    "application/vnd.databricks.v1+cell": {
     "cellMetadata": {
      "byteLimit": 2048000,
      "rowLimit": 10000
     },
     "inputWidgets": {},
     "nuid": "6153bc98-5fff-43ee-95ef-a91675fbdd5c",
     "showTitle": false,
     "tableResultSettingsMap": {},
     "title": ""
    }
   },
   "outputs": [],
   "source": [
    "# CRIA DATAFRAME COM A LISTAGEM DOS ESTADOS DO BRASIL\n",
    "estado_df = spark.createDataFrame(estados())\n",
    "\n",
    "# SELECIONA DOS ESTADOS DO BRASIL OS CAMPOS DE INTERESSE PADRONIZANDO OS NOMES \n",
    "estado_df = estado_df.selectExpr(\n",
    "    'id as id_estado',\n",
    "    'nome as nome_estado',\n",
    "    'sigla as sigla_estado',\n",
    "    'regiao.id as id_regiao',\n",
    "    'regiao.nome as regiao',\n",
    "    'regiao.sigla as sigla_regiao'\n",
    ")"
   ]
  },
  {
   "cell_type": "code",
   "execution_count": 0,
   "metadata": {
    "application/vnd.databricks.v1+cell": {
     "cellMetadata": {
      "byteLimit": 2048000,
      "rowLimit": 10000
     },
     "inputWidgets": {},
     "nuid": "89334b8f-803a-41fc-9842-45319c536109",
     "showTitle": false,
     "tableResultSettingsMap": {},
     "title": ""
    }
   },
   "outputs": [],
   "source": [
    "# CRIA DATAFRAME COM A LISTAGEM DOS MUNICIPIOS DO BRASIL\n",
    "municipios_df = None\n",
    "\n",
    "# REALIZA BUSCA DOS MUNICIPIOS POR SIGLA DO ESTADO (UF)\n",
    "for sigla in [row['sigla_estado'] for row in estado_df.select('sigla_estado').collect()]:\n",
    "    df_temp = spark.createDataFrame(municipios(sigla))\n",
    "    df_temp = df_temp.selectExpr(\n",
    "        'codigo_ibge',\n",
    "        'nome as nome_municipio'\n",
    "    )\n",
    "    # ADICIONA A SIGLA DO ESTADO A CADA MUNICÍPIO\n",
    "    df_temp = df_temp.withColumn('sigla_estado', lit(sigla))\n",
    "    if municipios_df is None:\n",
    "        municipios_df = df_temp\n",
    "    else:\n",
    "        municipios_df = municipios_df.unionByName(df_temp)"
   ]
  },
  {
   "cell_type": "code",
   "execution_count": 0,
   "metadata": {
    "application/vnd.databricks.v1+cell": {
     "cellMetadata": {
      "byteLimit": 2048000,
      "rowLimit": 10000
     },
     "inputWidgets": {},
     "nuid": "c349337a-0a44-4f41-956d-ee2af6ea6248",
     "showTitle": false,
     "tableResultSettingsMap": {},
     "title": ""
    }
   },
   "outputs": [],
   "source": [
    "# CRIA DO DATAFRAME FINAL COM OS DADOS DOS MUNICIPIOS E ESTADOS DO BRASIL, ADICIONANDO A DATA DA CARGA\n",
    "df_final = municipios_df.join(estado_df, on='sigla_estado')\\\n",
    "    .withColumn('data_carga', from_utc_timestamp(to_utc_timestamp(current_timestamp(), 'UTC'), 'America/Sao_Paulo'))\n",
    "\n",
    "# ESCREVE OS DADOS NO BANCO DE DADOS\n",
    "df_final.write.mode('overwrite').saveAsTable(table_name)"
   ]
  },
  {
   "cell_type": "code",
   "execution_count": 0,
   "metadata": {
    "application/vnd.databricks.v1+cell": {
     "cellMetadata": {
      "byteLimit": 2048000,
      "implicitDf": true,
      "rowLimit": 10000
     },
     "inputWidgets": {},
     "nuid": "0e871d89-0784-4e5e-bfe0-f5c3a2fb2abd",
     "showTitle": false,
     "tableResultSettingsMap": {},
     "title": ""
    }
   },
   "outputs": [],
   "source": [
    "spark.sql(f'OPTIMIZE {table_name}').display()"
   ]
  }
 ],
 "metadata": {
  "application/vnd.databricks.v1+notebook": {
   "computePreferences": null,
   "dashboards": [],
   "environmentMetadata": {
    "base_environment": "",
    "environment_version": "3"
   },
   "inputWidgetPreferences": null,
   "language": "python",
   "notebookMetadata": {
    "mostRecentlyExecutedCommandWithImplicitDF": {
     "commandId": -1,
     "dataframes": [
      "_sqldf"
     ]
    },
    "pythonIndentUnit": 4
   },
   "notebookName": "IBGE",
   "widgets": {}
  },
  "language_info": {
   "name": "python"
  }
 },
 "nbformat": 4,
 "nbformat_minor": 0
}
