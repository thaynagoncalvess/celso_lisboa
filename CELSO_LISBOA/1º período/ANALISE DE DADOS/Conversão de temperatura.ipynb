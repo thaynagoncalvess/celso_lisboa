{
 "cells": [
  {
   "cell_type": "markdown",
   "metadata": {
    "application/vnd.databricks.v1+cell": {
     "cellMetadata": {},
     "inputWidgets": {},
     "nuid": "6277b74c-f10a-43e9-9b58-9ae93e099a09",
     "showTitle": false,
     "tableResultSettingsMap": {},
     "title": ""
    }
   },
   "source": [
    "#Conversão de Temperatura\n",
    "\n",
    "Este programa lê uma temperatura em **Celsius** e converte para **Kelvin** e **Fahrenheit**.  \n",
    "\n",
    "---\n",
    "\n",
    "## Fórmulas Utilizadas\n",
    "\n",
    "- **Kelvin (K)** = Celsius + 273.15  \n",
    "- **Fahrenheit (°F)** = (Celsius × 9/5) + 32  \n",
    "\n",
    "Essas fórmulas são usadas para converter valores de temperatura entre diferentes escalas.\n",
    "\n",
    "---\n",
    "\n",
    "## Estrutura do Código\n",
    "\n",
    "### 1. Entrada de Dados\n",
    "```python\n",
    "celsius = float(input(\"Digite a temperatura em Celsius: \"))\n",
    "```\n",
    "### 2. Processamento\n",
    "```\n",
    "kelvin = celsius + 273.15\n",
    "fahrenheit = (celsius * 9/5) + 32\n",
    "```\n",
    "### 3. Saída\n",
    "```\n",
    "print(f\"\\nTemperatura em Celsius: {celsius:.2f} °C\")\n",
    "print(f\"Temperatura em Kelvin: {kelvin:.2f} K\")\n",
    "print(f\"Temperatura em Fahrenheit: {fahrenheit:.2f} °F\")\n",
    "```\n"
   ]
  },
  {
   "cell_type": "code",
   "execution_count": 0,
   "metadata": {
    "application/vnd.databricks.v1+cell": {
     "cellMetadata": {},
     "inputWidgets": {},
     "nuid": "5df99b16-31f5-424a-83f2-c8c993b49b8a",
     "showTitle": false,
     "tableResultSettingsMap": {},
     "title": ""
    }
   },
   "outputs": [],
   "source": [
    "# Entrada\n",
    "celsius = float(input(\"Digite a temperatura em Celsius: \"))\n",
    "\n",
    "# Processamento\n",
    "kelvin = celsius + 273.15 # Converte a temperatura de Celsius para Kelvin.\n",
    "fahrenheit = (celsius * 9/5) + 32 # Converte a temperatura de Celsius para Kelvin.\n",
    "\n",
    "\n",
    "# Saída\n",
    "print(f\"\\nTemperatura em Celsius: {celsius:.2f} °C\")\n",
    "print(f\"Temperatura em Kelvin: {kelvin:.2f} K\")\n",
    "print(f\"Temperatura em Fahrenheit: {fahrenheit:.2f} °F\")"
   ]
  }
 ],
 "metadata": {
  "application/vnd.databricks.v1+notebook": {
   "computePreferences": null,
   "dashboards": [],
   "environmentMetadata": {
    "base_environment": "",
    "environment_version": "3"
   },
   "inputWidgetPreferences": null,
   "language": "python",
   "notebookMetadata": {
    "pythonIndentUnit": 4
   },
   "notebookName": "Conversão de temperatura",
   "widgets": {}
  },
  "language_info": {
   "name": "python"
  }
 },
 "nbformat": 4,
 "nbformat_minor": 0
}
