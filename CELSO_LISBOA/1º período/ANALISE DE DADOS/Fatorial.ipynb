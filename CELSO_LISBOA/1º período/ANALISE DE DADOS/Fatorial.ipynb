{
 "cells": [
  {
   "cell_type": "markdown",
   "metadata": {
    "application/vnd.databricks.v1+cell": {
     "cellMetadata": {},
     "inputWidgets": {},
     "nuid": "ab31bc17-f188-4c9f-b5fc-dec07885e4bf",
     "showTitle": false,
     "tableResultSettingsMap": {},
     "title": ""
    }
   },
   "source": [
    "#Cálculo de Fatorial\n",
    "\n",
    "Este programa calcula o **fatorial** de um número inteiro fornecido pelo usuário.\n",
    "\n",
    "---\n",
    "\n",
    "### O que é fatorial?\n",
    "\n",
    "O **fatorial** de um número inteiro positivo `n` é o produto de todos os números inteiros de `1` até `n`.  \n",
    "É representado por `n!`.  \n",
    "\n",
    "Exemplo:\n",
    "- `5! = 5 × 4 × 3 × 2 × 1 = 120`\n",
    "- `0! = 1` (definição matemática)\n",
    "\n",
    "---\n",
    "\n",
    "### Estrutura do Código\n",
    "\n",
    "```python\n",
    "def fatorial(n):\n",
    "    if n < 0:\n",
    "        return \"Não existe fatorial de número negativo.\"\n",
    "    elif n == 0 or n == 1:\n",
    "        return 1\n",
    "    else:\n",
    "        resultado = 1\n",
    "        for i in range(2, n + 1):\n",
    "            resultado *= i\n",
    "        return resultado \n",
    "```\n",
    "\n",
    "### Funcionamento\n",
    "- **Entrada**: um número inteiro n.\n",
    "\n",
    "- **Processamento**:\n",
    "  - **Validações**:\n",
    "\n",
    "    - Se `n` for negativo → retorna uma mensagem de erro.\n",
    "    - Se `n` for 0 ou 1 → retorna `1`.\n",
    "  - Cria uma variável resultado iniciando em 1.\n",
    "  - Multiplica todos os valores de 2 até n.\n",
    "\n",
    "- **Saída**: retorna o valor do fatorial de n.\n"
   ]
  },
  {
   "cell_type": "code",
   "execution_count": 0,
   "metadata": {
    "application/vnd.databricks.v1+cell": {
     "cellMetadata": {
      "byteLimit": 2048000,
      "rowLimit": 10000
     },
     "inputWidgets": {},
     "nuid": "96876fc6-f871-48ca-932b-ad1d02b84eb1",
     "showTitle": false,
     "tableResultSettingsMap": {},
     "title": ""
    }
   },
   "outputs": [],
   "source": [
    "# Função para calculo do fatorial\n",
    "def fatorial(n):\n",
    "    if n < 0:\n",
    "        return \"Não existe fatorial de número negativo.\"\n",
    "    elif n == 0 or n == 1:\n",
    "        return 1\n",
    "    else:\n",
    "        resultado = 1\n",
    "        for i in range(2, n + 1):\n",
    "            resultado *= i\n",
    "        return resultado\n",
    "\n",
    "# Programa principal\n",
    "numero = int(input(\"Digite um número para calcular o fatorial: \"))\n",
    "print(f\"O fatorial de {numero} é {fatorial(numero)}\")"
   ]
  }
 ],
 "metadata": {
  "application/vnd.databricks.v1+notebook": {
   "computePreferences": null,
   "dashboards": [],
   "environmentMetadata": {
    "base_environment": "",
    "environment_version": "3"
   },
   "inputWidgetPreferences": null,
   "language": "python",
   "notebookMetadata": {
    "pythonIndentUnit": 4
   },
   "notebookName": "Fatorial",
   "widgets": {}
  },
  "language_info": {
   "name": "python"
  }
 },
 "nbformat": 4,
 "nbformat_minor": 0
}
